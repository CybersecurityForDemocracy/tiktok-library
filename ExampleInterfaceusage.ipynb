{
 "cells": [
  {
   "cell_type": "markdown",
   "metadata": {},
   "source": [
    "# Create secrets.yaml\n",
    "\n",
    "Expected fields (no quotes):\n",
    "\n",
    "```yaml\n",
    "client_id: 123\n",
    "client_secret: abc\n",
    "client_key: abc\n",
    "```"
   ]
  },
  {
   "cell_type": "markdown",
   "metadata": {},
   "source": [
    "# Using the interface:"
   ]
  },
  {
   "cell_type": "code",
   "execution_count": 1,
   "metadata": {},
   "outputs": [],
   "source": [
    "from tiktok_api_helper.access import get_session\n",
    "\n",
    "# auto reads from secrets.yaml in the same directory\n",
    "request_session = get_session()"
   ]
  },
  {
   "cell_type": "markdown",
   "metadata": {},
   "source": [
    "A query is a combination of a \"type (and, or, not)\" with multiple Conditions (\"Cond\")\n",
    "\n",
    "Each condition is a combination of a \"field\" (Fields, F), \"value\" and a operation (\"Operations\", \"Op\")."
   ]
  },
  {
   "cell_type": "code",
   "execution_count": 2,
   "metadata": {},
   "outputs": [],
   "source": [
    "from tiktok_api_helper.Video import TiktokRequest, Query, Cond, Fields, Op"
   ]
  },
  {
   "cell_type": "code",
   "execution_count": 3,
   "metadata": {},
   "outputs": [],
   "source": [
    "# sample query\n",
    "req = TiktokRequest(\n",
    "    query=Query(or_=Cond(Fields.video_id, [123, 456], Op.IN)),\n",
    "    start_date=\"20220101\",\n",
    "    end_date=\"20220129\",\n",
    ").post(request_session)"
   ]
  },
  {
   "cell_type": "code",
   "execution_count": null,
   "metadata": {},
   "outputs": [],
   "source": [
    "hashtags = [\"fyp\", \"foryou\", \"foryoupage\"]\n",
    "\n",
    "# Multiple conditions\n",
    "req = TiktokRequest(\n",
    "    query=Query(\n",
    "        and_=[\n",
    "            Cond(Fields.hashtag_name, hashtags, Op.IN),\n",
    "            Cond(Fields.region_code, \"US\", Op.EQ),\n",
    "\n",
    "            # Alternative version with multiple countries - Then the operation changes to \"IN\" instead of \"EQ\" (equals) as it's a list\n",
    "            # the library handles list vs str natively\n",
    "            # Cond(Fields.region_code, [\"US\", \"UK\"], Op.IN),\n",
    "\n",
    "        ]\n",
    "    ),\n",
    "    start_date=\"20220101\",\n",
    "    end_date=\"20220129\",\n",
    ").post(request_session)"
   ]
  }
 ],
 "metadata": {
  "kernelspec": {
   "display_name": "Python 3",
   "language": "python",
   "name": "python3"
  },
  "language_info": {
   "codemirror_mode": {
    "name": "ipython",
    "version": 3
   },
   "file_extension": ".py",
   "mimetype": "text/x-python",
   "name": "python",
   "nbconvert_exporter": "python",
   "pygments_lexer": "ipython3",
   "version": "3.10.12"
  },
  "orig_nbformat": 4,
  "vscode": {
   "interpreter": {
    "hash": "916dbcbb3f70747c44a77c7bcd40155683ae19c65e1c03b4aa3499c5328201f1"
   }
  }
 },
 "nbformat": 4,
 "nbformat_minor": 2
}
