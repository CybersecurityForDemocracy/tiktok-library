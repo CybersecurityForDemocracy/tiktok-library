{
 "cells": [
  {
   "cell_type": "markdown",
   "metadata": {},
   "source": [
    "# Accessing data from the DB\n",
    "\n",
    "We can use Sqlalchemy and Pandas to access the data from the database. \n",
    "\n",
    "Neither are installed by default from the library, so use"
   ]
  },
  {
   "cell_type": "code",
   "execution_count": null,
   "metadata": {},
   "outputs": [],
   "source": []
  },
  {
   "cell_type": "code",
   "execution_count": 1,
   "metadata": {},
   "outputs": [],
   "source": [
    "from sqlalchemy.orm import Session\n",
    "from tiktok_api_helper import sql\n",
    "from pathlib import Path\n",
    "import pandas as pd\n",
    "\n",
    "engine = sql.get_engine_and_create_tables(Path(\"test.db\"))"
   ]
  },
  {
   "cell_type": "code",
   "execution_count": 2,
   "metadata": {},
   "outputs": [],
   "source": [
    "with engine.begin() as conn:\n",
    "    with Session(engine) as session:\n",
    "        # crawls = session.query(Crawl).all()\n",
    "        tiktok_df = pd.read_sql(session.query(sql.Video).statement,conn) \n",
    "        tiktok_df[\"create_time\"] = pd.to_datetime(tiktok_df[\"create_time\"], unit='s', origin='unix')\n",
    "        tiktok_df.sort_values(by=\"crawled_at\", inplace=True)"
   ]
  },
  {
   "cell_type": "code",
   "execution_count": 3,
   "metadata": {},
   "outputs": [
    {
     "data": {
      "text/html": [
       "<div>\n",
       "<style scoped>\n",
       "    .dataframe tbody tr th:only-of-type {\n",
       "        vertical-align: middle;\n",
       "    }\n",
       "\n",
       "    .dataframe tbody tr th {\n",
       "        vertical-align: top;\n",
       "    }\n",
       "\n",
       "    .dataframe thead th {\n",
       "        text-align: right;\n",
       "    }\n",
       "</style>\n",
       "<table border=\"1\" class=\"dataframe\">\n",
       "  <thead>\n",
       "    <tr style=\"text-align: right;\">\n",
       "      <th></th>\n",
       "      <th>id</th>\n",
       "      <th>create_time</th>\n",
       "      <th>username</th>\n",
       "      <th>region_code</th>\n",
       "      <th>effect_ids</th>\n",
       "      <th>hashtag_names</th>\n",
       "      <th>video_description</th>\n",
       "      <th>music_id</th>\n",
       "      <th>like_count</th>\n",
       "      <th>comment_count</th>\n",
       "      <th>share_count</th>\n",
       "      <th>view_count</th>\n",
       "      <th>playlist_id</th>\n",
       "      <th>voice_to_text</th>\n",
       "      <th>crawled_at</th>\n",
       "      <th>crawled_updated_at</th>\n",
       "      <th>source</th>\n",
       "      <th>extra_data</th>\n",
       "    </tr>\n",
       "  </thead>\n",
       "  <tbody>\n",
       "    <tr>\n",
       "      <th>0</th>\n",
       "      <td>7048052322798193966</td>\n",
       "      <td>2022-01-01 02:02:39</td>\n",
       "      <td>gator_aids77</td>\n",
       "      <td>US</td>\n",
       "      <td>[0]</td>\n",
       "      <td>[followers, viral, wee, snoopy, fyp]</td>\n",
       "      <td>#fyp #viral #snoopy #followers  #wee</td>\n",
       "      <td>7036959062042659630</td>\n",
       "      <td>4</td>\n",
       "      <td>0</td>\n",
       "      <td>0</td>\n",
       "      <td>54</td>\n",
       "      <td>NaN</td>\n",
       "      <td>None</td>\n",
       "      <td>2024-03-14 21:00:03</td>\n",
       "      <td>None</td>\n",
       "      <td>[Testing]</td>\n",
       "      <td>None</td>\n",
       "    </tr>\n",
       "    <tr>\n",
       "      <th>16</th>\n",
       "      <td>7048351764432620846</td>\n",
       "      <td>2022-01-01 21:24:41</td>\n",
       "      <td>beagleandbesties</td>\n",
       "      <td>US</td>\n",
       "      <td>[0]</td>\n",
       "      <td>[beagle, snoopy, cocker]</td>\n",
       "      <td>BINGBONG #snoopy #beagle #cocker</td>\n",
       "      <td>7031963244365515566</td>\n",
       "      <td>9</td>\n",
       "      <td>0</td>\n",
       "      <td>0</td>\n",
       "      <td>534</td>\n",
       "      <td>NaN</td>\n",
       "      <td>None</td>\n",
       "      <td>2024-03-14 21:00:03</td>\n",
       "      <td>None</td>\n",
       "      <td>[Testing]</td>\n",
       "      <td>None</td>\n",
       "    </tr>\n",
       "  </tbody>\n",
       "</table>\n",
       "</div>"
      ],
      "text/plain": [
       "                     id         create_time          username region_code  \\\n",
       "0   7048052322798193966 2022-01-01 02:02:39      gator_aids77          US   \n",
       "16  7048351764432620846 2022-01-01 21:24:41  beagleandbesties          US   \n",
       "\n",
       "   effect_ids                         hashtag_names  \\\n",
       "0         [0]  [followers, viral, wee, snoopy, fyp]   \n",
       "16        [0]              [beagle, snoopy, cocker]   \n",
       "\n",
       "                       video_description             music_id  like_count  \\\n",
       "0   #fyp #viral #snoopy #followers  #wee  7036959062042659630           4   \n",
       "16      BINGBONG #snoopy #beagle #cocker  7031963244365515566           9   \n",
       "\n",
       "    comment_count  share_count  view_count  playlist_id voice_to_text  \\\n",
       "0               0            0          54          NaN          None   \n",
       "16              0            0         534          NaN          None   \n",
       "\n",
       "            crawled_at crawled_updated_at     source extra_data  \n",
       "0  2024-03-14 21:00:03               None  [Testing]       None  \n",
       "16 2024-03-14 21:00:03               None  [Testing]       None  "
      ]
     },
     "execution_count": 3,
     "metadata": {},
     "output_type": "execute_result"
    }
   ],
   "source": [
    "tiktok_df.head(2)"
   ]
  },
  {
   "cell_type": "code",
   "execution_count": null,
   "metadata": {},
   "outputs": [],
   "source": []
  }
 ],
 "metadata": {
  "kernelspec": {
   "display_name": "Python 3",
   "language": "python",
   "name": "python3"
  },
  "language_info": {
   "codemirror_mode": {
    "name": "ipython",
    "version": 3
   },
   "file_extension": ".py",
   "mimetype": "text/x-python",
   "name": "python",
   "nbconvert_exporter": "python",
   "pygments_lexer": "ipython3",
   "version": "3.10.12"
  },
  "orig_nbformat": 4,
  "vscode": {
   "interpreter": {
    "hash": "916dbcbb3f70747c44a77c7bcd40155683ae19c65e1c03b4aa3499c5328201f1"
   }
  }
 },
 "nbformat": 4,
 "nbformat_minor": 2
}
